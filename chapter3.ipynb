{
 "cells": [
  {
   "cell_type": "markdown",
   "metadata": {},
   "source": [
    "## Chapter 3 Problems"
   ]
  },
  {
   "cell_type": "markdown",
   "metadata": {},
   "source": [
    "**3.1** The vapor pressure of a pure liquid, written $ p^{∗} $ , is a strong function of temperature. To calculate the vapor pressure at a given temperature, T, it is common to use Antoine’s equation:\n",
    "\n",
    "$$ \\log_{10}p^{*} = A - \\frac{B}{T + C}$$\n",
    "\n",
    "where A, B, and C are constants that can be looked up for diﬀerent liquids. Write a function that has A, B, C, and T (in ∘ C) as inputs and returns the vapor pressure, $ p^{*} $.\n",
    "\n",
    "Hint: $ 10^{\\log_{10}x} = x $"
   ]
  },
  {
   "cell_type": "code",
   "execution_count": 10,
   "metadata": {},
   "outputs": [],
   "source": [
    "def get_P_Antoine(A: float,B: float,C: float,T: float):\n",
    "    '''\n",
    "    Takes in the Antoine constants (A,B,C) for a given pure liquid, and a temperature value (T) in Celsius, and returns\n",
    "    the vapor pressure (in mmHg) for the liquid at the given T, using Antoine's equation.\n",
    "    '''\n",
    "\n",
    "    logValue = A - (B/(T+C))\n",
    "\n",
    "    pressure = 10 ** logValue\n",
    "\n",
    "    return pressure"
   ]
  },
  {
   "cell_type": "markdown",
   "metadata": {},
   "source": [
    "**Testing:** For water, up until around 100 °C, the Antoine's constants are:\n",
    "\n",
    "$$ A = 8.07131 $$\n",
    "$$ B = 1730.63 $$\n",
    "$$ C = 233.426 $$\n",
    "\n",
    "For $ T = 100 °C $, we'd expect the water's pressure to be equal to $ 760 mmHg $ (atmospheric pressure).\n",
    "\n",
    "Using our function, we get a value roughly equal to the expected pressure: $ 760.0863691649309 mmHg $"
   ]
  },
  {
   "cell_type": "code",
   "execution_count": 11,
   "metadata": {},
   "outputs": [
    {
     "data": {
      "text/plain": [
       "760.0863691649309"
      ]
     },
     "execution_count": 11,
     "metadata": {},
     "output_type": "execute_result"
    }
   ],
   "source": [
    "get_P_Antoine(8.07131,1730.63,233.426,100)"
   ]
  }
 ],
 "metadata": {
  "interpreter": {
   "hash": "1887026fcd1b072b47c58e40aa32a6384ea48c39cc97a9faa3b1fec939c280df"
  },
  "kernelspec": {
   "display_name": "Python 3.9.12 ('base')",
   "language": "python",
   "name": "python3"
  },
  "language_info": {
   "codemirror_mode": {
    "name": "ipython",
    "version": 3
   },
   "file_extension": ".py",
   "mimetype": "text/x-python",
   "name": "python",
   "nbconvert_exporter": "python",
   "pygments_lexer": "ipython3",
   "version": "3.9.12"
  },
  "orig_nbformat": 4
 },
 "nbformat": 4,
 "nbformat_minor": 2
}
